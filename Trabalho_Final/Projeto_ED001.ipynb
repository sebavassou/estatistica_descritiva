{
  "nbformat": 4,
  "nbformat_minor": 0,
  "metadata": {
    "colab": {
      "provenance": [],
      "authorship_tag": "ABX9TyNx/zIg+5gdzDUDSGq6WR8O",
      "include_colab_link": true
    },
    "kernelspec": {
      "name": "python3",
      "display_name": "Python 3"
    },
    "language_info": {
      "name": "python"
    }
  },
  "cells": [
    {
      "cell_type": "markdown",
      "metadata": {
        "id": "view-in-github",
        "colab_type": "text"
      },
      "source": [
        "<a href=\"https://colab.research.google.com/github/sebavassou/estatistica_descritiva/blob/main/Trabalho_Final/Projeto_ED001.ipynb\" target=\"_parent\"><img src=\"https://colab.research.google.com/assets/colab-badge.svg\" alt=\"Open In Colab\"/></a>"
      ]
    },
    {
      "cell_type": "code",
      "execution_count": null,
      "metadata": {
        "id": "20GkW20bCqNh"
      },
      "outputs": [],
      "source": []
    },
    {
      "cell_type": "markdown",
      "source": [
        "\n",
        "Incicialmente foi selecionada uma variável contínua no caso o valor do IDEB 2023 em relação aos Municípios. Vamos  calcular todas as medidas de dispersão apresentadas (variância e desvios amostrais, bem como amplitude, intervalo interquartílico, coeficiente de dispersão quartílica e coeficiente de variação). Anote em seu caderno a interpretação das medidas obtidas:\n",
        "1.1. Sua amostra é concentrada ou dispersa?\n",
        "1.2. A amplitude interna (IIQ) é proporcional à amplitude total da amostra?\n",
        "1.3. Quais a implicações dessas informações em relação ao contexto/significado\n",
        "concreto dessa variável?\n",
        "2. Exiba um gráfico de dispersão (KDE) da variável estudada\n",
        "2.1. Sinalize os componentes do IIQ (i.e. Q1 e Q3) com linhas verticais na cor cinza;\n",
        "2.2. Sinalize, com linhas verticais azuis, a média amostral e o primeiro desvio padrão à esquerda e à direita\n",
        "3. Exiba um gráfico KDE, marcando, quando existir, os outliers;"
      ],
      "metadata": {
        "id": "yjBMaYxQC_Vl"
      }
    },
    {
      "cell_type": "code",
      "source": [
        "#Bibliotecas recomendadas\n",
        "import numpy as np\n",
        "import pandas as pd\n",
        "import seaborn as sns\n",
        "from scipy import stats\n",
        "import matplotlib.pyplot as plt"
      ],
      "metadata": {
        "id": "CLstFHN0gs6h"
      },
      "execution_count": 1,
      "outputs": []
    },
    {
      "cell_type": "code",
      "source": [
        "#Conectando ao Google Drive\n",
        "from google.colab import drive\n",
        "drive.mount('/content/drive')\n",
        "root_path = 'drive/MyDrive/'"
      ],
      "metadata": {
        "colab": {
          "base_uri": "https://localhost:8080/"
        },
        "id": "-xUUb96xDCn-",
        "outputId": "c92b4669-db03-4ecd-8c17-2ef07f7007a2"
      },
      "execution_count": 2,
      "outputs": [
        {
          "output_type": "stream",
          "name": "stdout",
          "text": [
            "Mounted at /content/drive\n"
          ]
        }
      ]
    },
    {
      "cell_type": "code",
      "source": [
        "#Fazendo a leitura do dataset\n",
        "import requests\n",
        "\n",
        "pasta = '/content/drive/MyDrive/Enap'\n",
        "arquivo = 'ideb_municipios_2023.xlsx'\n",
        "# Updated link to download raw file\n",
        "link = 'https://raw.githubusercontent.com/sebavassou/estatistica_descritiva/main/dados/ideb_municipios_edit_2023.xlsx'\n",
        "\n",
        "\n",
        "r = requests.get(link, stream = True)\n",
        "\n",
        "with open(f\"{pasta}/{arquivo}\", \"wb\") as file:\n",
        "    for block in r.iter_content(chunk_size = 1024):\n",
        "         if block:\n",
        "             file.write(block)"
      ],
      "metadata": {
        "id": "a4vhpH1xDnZb"
      },
      "execution_count": 22,
      "outputs": []
    },
    {
      "cell_type": "code",
      "source": [
        "df = pd.read_excel(f\"{pasta}/{arquivo}\", skipfooter=14, skiprows=9)\n"
      ],
      "metadata": {
        "id": "HaGbq8EmD6CN"
      },
      "execution_count": 23,
      "outputs": []
    },
    {
      "cell_type": "code",
      "source": [
        "df.info()"
      ],
      "metadata": {
        "colab": {
          "base_uri": "https://localhost:8080/"
        },
        "id": "OBdIC7SI7CYt",
        "outputId": "2a77a1cf-dc05-4531-db38-24bdeada258b"
      },
      "execution_count": 24,
      "outputs": [
        {
          "output_type": "stream",
          "name": "stdout",
          "text": [
            "<class 'pandas.core.frame.DataFrame'>\n",
            "RangeIndex: 11721 entries, 0 to 11720\n",
            "Data columns (total 8 columns):\n",
            " #   Column             Non-Null Count  Dtype \n",
            "---  ------             --------------  ----- \n",
            " 0   SG_UF              11721 non-null  object\n",
            " 1   CO_MUNICIPIO       11721 non-null  int64 \n",
            " 2   NO_MUNICIPIO       11721 non-null  object\n",
            " 3   REDE               11721 non-null  object\n",
            " 4   VL_OBSERVADO_2017  11721 non-null  object\n",
            " 5   VL_OBSERVADO_2019  11721 non-null  object\n",
            " 6   VL_OBSERVADO_2021  11721 non-null  object\n",
            " 7   VL_OBSERVADO_2023  11721 non-null  object\n",
            "dtypes: int64(1), object(7)\n",
            "memory usage: 732.7+ KB\n"
          ]
        }
      ]
    },
    {
      "cell_type": "code",
      "source": [
        "# Renomear as colunas\n",
        "df = df.rename(columns={\n",
        "    'SG_UF': 'UF',\n",
        "    'NO_MUNICIPIO': 'MUNICIPIO',\n",
        "    'VL_OBSERVADO_2017': 'IDEB_2017',\n",
        "    'VL_OBSERVADO_2019': 'IDEB_2019',\n",
        "    'VL_OBSERVADO_2021': 'IDEB_2021',\n",
        "    'VL_OBSERVADO_2023': 'IDEB_2023'\n",
        "})\n",
        "\n",
        "df.info()"
      ],
      "metadata": {
        "colab": {
          "base_uri": "https://localhost:8080/"
        },
        "id": "4bV_TqRAA8cu",
        "outputId": "7601fd22-846e-411b-dbe8-7eaee134820b"
      },
      "execution_count": 26,
      "outputs": [
        {
          "output_type": "stream",
          "name": "stdout",
          "text": [
            "<class 'pandas.core.frame.DataFrame'>\n",
            "RangeIndex: 11721 entries, 0 to 11720\n",
            "Data columns (total 8 columns):\n",
            " #   Column        Non-Null Count  Dtype \n",
            "---  ------        --------------  ----- \n",
            " 0   UF            11721 non-null  object\n",
            " 1   CO_MUNICIPIO  11721 non-null  int64 \n",
            " 2   MUNICIPIO     11721 non-null  object\n",
            " 3   REDE          11721 non-null  object\n",
            " 4   IDEB_2017     11721 non-null  object\n",
            " 5   IDEB_2019     11721 non-null  object\n",
            " 6   IDEB_2021     11721 non-null  object\n",
            " 7   IDEB_2023     11721 non-null  object\n",
            "dtypes: int64(1), object(7)\n",
            "memory usage: 732.7+ KB\n"
          ]
        }
      ]
    },
    {
      "cell_type": "code",
      "source": [
        "\n",
        "# Converter a coluna 'IDEB12_17' para numérico, tratando erros\n",
        "df['IDEB_2017'] = pd.to_numeric(df['IDEB_2017'], errors='coerce')\n",
        "df['IDEB_2019'] = pd.to_numeric(df['IDEB_2019'], errors='coerce')\n",
        "df['IDEB_2021'] = pd.to_numeric(df['IDEB_2021'], errors='coerce')\n",
        "df['IDEB_2023'] = pd.to_numeric(df['IDEB_2023'], errors='coerce')\n",
        "\n",
        "# Exibir informações sobre o DataFrame atualizado\n",
        "df.info()\n",
        "\n",
        "\n",
        "\n"
      ],
      "metadata": {
        "colab": {
          "base_uri": "https://localhost:8080/"
        },
        "id": "NIZ4LVUKFgtR",
        "outputId": "18486edd-5325-44ef-81e4-cd2bf7442ad2"
      },
      "execution_count": 28,
      "outputs": [
        {
          "output_type": "stream",
          "name": "stdout",
          "text": [
            "<class 'pandas.core.frame.DataFrame'>\n",
            "RangeIndex: 11721 entries, 0 to 11720\n",
            "Data columns (total 8 columns):\n",
            " #   Column        Non-Null Count  Dtype  \n",
            "---  ------        --------------  -----  \n",
            " 0   UF            11721 non-null  object \n",
            " 1   CO_MUNICIPIO  11721 non-null  int64  \n",
            " 2   MUNICIPIO     11721 non-null  object \n",
            " 3   REDE          11721 non-null  object \n",
            " 4   IDEB_2017     10914 non-null  float64\n",
            " 5   IDEB_2019     9742 non-null   float64\n",
            " 6   IDEB_2021     6826 non-null   float64\n",
            " 7   IDEB_2023     10314 non-null  float64\n",
            "dtypes: float64(4), int64(1), object(3)\n",
            "memory usage: 732.7+ KB\n"
          ]
        }
      ]
    },
    {
      "cell_type": "markdown",
      "source": [
        "# HISTOGRAMA"
      ],
      "metadata": {
        "id": "gV4SGtR8knYE"
      }
    },
    {
      "cell_type": "code",
      "source": [
        "# Plota o histograma da variável IDEB_2023\n",
        "plt.figure(figsize=(7, 4))\n",
        "sns.histplot(df['IDEB_2023'], kde=True)\n",
        "plt.title('Histograma da Variável IDEB_2023')\n",
        "plt.xlabel('IDEB_2023')\n",
        "plt.ylabel('Frequência')\n",
        "plt.show()\n",
        "\n"
      ],
      "metadata": {
        "colab": {
          "base_uri": "https://localhost:8080/",
          "height": 411
        },
        "id": "Nwvko5lzkSsD",
        "outputId": "dca9c7af-76be-4bf7-dbc1-f71bf82e20fa"
      },
      "execution_count": 32,
      "outputs": [
        {
          "output_type": "display_data",
          "data": {
            "text/plain": [
              "<Figure size 700x400 with 1 Axes>"
            ],
            "image/png": "[encoded data removed]"
          },
          "metadata": {}
        }
      ]
    },
    {
      "cell_type": "code",
      "source": [],
      "metadata": {
        "id": "YWZbQuLEu_QY"
      },
      "execution_count": null,
      "outputs": []
    },
    {
      "cell_type": "markdown",
      "source": [],
      "metadata": {
        "id": "8NnSgQwKkmFn"
      }
    },
    {
      "cell_type": "code",
      "source": [
        "\n",
        "# Calcular medidas de dispersão para a variável IDEB_2023\n",
        "\n",
        "# Variância amostral\n",
        "variance = df['IDEB_2023'].var()\n",
        "\n",
        "# Desvio padrão amostral\n",
        "std_dev = df['IDEB_2023'].std()\n",
        "\n",
        "# Amplitude\n",
        "amplitude = df['IDEB_2023'].max() - df['IDEB_2023'].min()\n",
        "\n",
        "# Intervalo interquartílico (IIQ)\n",
        "q1 = df['IDEB_2023'].quantile(0.25)\n",
        "q3 = df['IDEB_2023'].quantile(0.75)\n",
        "iqr = q3 - q1\n",
        "\n",
        "# Coeficiente de dispersão quartílica\n",
        "coefficient_quartile_dispersion = iqr / (q1 + q3)\n",
        "\n",
        "# Coeficiente de variação\n",
        "coefficient_variation = (std_dev / df['IDEB_2023'].mean()) * 100\n",
        "\n",
        "\n",
        "print(f\"Variância amostral: {variance}\")\n",
        "print(f\"Desvio padrão amostral: {std_dev}\")\n",
        "print(f\"Amplitude: {amplitude}\")\n",
        "print(f\"Intervalo interquartílico (IIQ): {iqr}\")\n",
        "print(f\"Coeficiente de dispersão quartílica: {coefficient_quartile_dispersion}\")\n",
        "print(f\"Coeficiente de variação: {coefficient_variation}\")\n"
      ],
      "metadata": {
        "colab": {
          "base_uri": "https://localhost:8080/"
        },
        "id": "kXrdaBrihIeU",
        "outputId": "a397412d-9a08-4bae-a897-250336f6fd5d"
      },
      "execution_count": 33,
      "outputs": [
        {
          "output_type": "stream",
          "name": "stdout",
          "text": [
            "Variância amostral: 0.3175981110609499\n",
            "Desvio padrão amostral: 0.5635584362432612\n",
            "Amplitude: 5.5\n",
            "Intervalo interquartílico (IIQ): 0.7000000000000002\n",
            "Coeficiente de dispersão quartílica: 0.08433734939759037\n",
            "Coeficiente de variação: 13.516910170254862\n"
          ]
        }
      ]
    },
    {
      "cell_type": "code",
      "source": [
        "# Boxplot com intervalo interquartil\n",
        "plt.figure(figsize=(7, 4))\n",
        "sns.boxplot(x=df['IDEB_2023'])\n",
        "plt.title('Boxplot da Variável IDEB_2023')\n",
        "plt.xlabel('IDEB_2023')\n",
        "plt.show()\n"
      ],
      "metadata": {
        "colab": {
          "base_uri": "https://localhost:8080/",
          "height": 411
        },
        "id": "jEG35j0fpHh-",
        "outputId": "55b371e2-5cb3-4189-a90c-3954080284f4"
      },
      "execution_count": 34,
      "outputs": [
        {
          "output_type": "display_data",
          "data": {
            "text/plain": [
              "<Figure size 700x400 with 1 Axes>"
            ],
            "image/png": "[encoded data removed]"
          },
          "metadata": {}
        }
      ]
    },
    {
      "cell_type": "code",
      "source": [
        "\n",
        "#Plot\n",
        "#Plot\n",
        "import matplotlib.pyplot as plt\n",
        "import seaborn as sns\n",
        "\n",
        "# Calcula os quartis\n",
        "q1 = df['IDEB_2023'].quantile(0.25)\n",
        "q3 = df['IDEB_2023'].quantile(0.75)\n",
        "\n",
        "# Calcula a média e o desvio padrão\n",
        "media = df['IDEB_2023'].mean()\n",
        "desvio_padrao = df['IDEB_2023'].std()\n",
        "\n",
        "# Cria o gráfico KDE\n",
        "plt.figure(figsize=(7, 4))\n",
        "sns.kdeplot(df['IDEB_2023'], fill=True)\n",
        "\n",
        "# Adiciona linhas verticais para Q1 e Q3 (cinza)\n",
        "plt.axvline(x=q1, color='gray', linestyle='--', label='Q1')\n",
        "plt.axvline(x=q3, color='gray', linestyle='--', label='Q3')\n",
        "\n",
        "\n",
        "# Adiciona linhas verticais para a média e o desvio padrão (azul)\n",
        "plt.axvline(x=media, color='blue', linestyle='-', label='Média')\n",
        "plt.axvline(x=media - desvio_padrao, color='blue', linestyle='--', label='Média - DP')\n",
        "plt.axvline(x=media + desvio_padrao, color='blue', linestyle='--', label='Média + DP')\n",
        "\n",
        "\n",
        "plt.title('Gráfico KDE do IDEB_2023 com IIQ e Desvio Padrão')\n",
        "plt.xlabel('IDEB_2023')\n",
        "plt.ylabel('Densidade')\n",
        "plt.legend()\n",
        "plt.show()\n"
      ],
      "metadata": {
        "colab": {
          "base_uri": "https://localhost:8080/",
          "height": 411
        },
        "id": "LYTuio1Pjry_",
        "outputId": "95eeca3b-a94e-4a31-9e5d-428f7aecf7d0"
      },
      "execution_count": 35,
      "outputs": [
        {
          "output_type": "display_data",
          "data": {
            "text/plain": [
              "<Figure size 700x400 with 1 Axes>"
            ],
            "image/png": "[encoded data removed]"
          },
          "metadata": {}
        }
      ]
    },
    {
      "cell_type": "code",
      "source": [
        "# Calcula a assimetria (skewness)\n",
        "skewness = df['IDEB_2023'].skew()\n",
        "\n",
        "# Calcula a curtose (kurtosis)\n",
        "kurtosis = df['IDEB_2023'].kurt()\n",
        "\n",
        "print(f\"Assimetria (Skewness): {skewness}\")\n",
        "print(f\"Curtose (Kurtosis): {kurtosis}\")\n",
        "\n",
        "# Interpretação da assimetria:\n",
        "# Se skewness > 0: distribuição assimétrica positiva (cauda à direita)\n",
        "# Se skewness < 0: distribuição assimétrica negativa (cauda à esquerda)\n",
        "# Se skewness ≈ 0: distribuição simétrica\n",
        "\n",
        "# Interpretação da curtose:\n",
        "# Se kurtosis ≈ 3: distribuição mesocúrtica (semelhante à normal)\n",
        "# Se kurtosis > 3: distribuição leptocúrtica (mais concentrada, caudas pesadas)\n",
        "# Se kurtosis < 3: distribuição platicúrtica (menos concentrada, caudas leves)\n"
      ],
      "metadata": {
        "colab": {
          "base_uri": "https://localhost:8080/"
        },
        "id": "iPv2XNStvCF9",
        "outputId": "d6b3a93f-4d0f-4691-c405-eb4d6427620f"
      },
      "execution_count": 36,
      "outputs": [
        {
          "output_type": "stream",
          "name": "stdout",
          "text": [
            "Assimetria (Skewness): 0.17688872794080926\n",
            "Curtose (Kurtosis): 0.7952611850844771\n"
          ]
        }
      ]
    },
    {
      "cell_type": "markdown",
      "source": [
        "Com base no gráfico KDE fornecido e os valores de **assimetria**, **curtose**, e **IIQ**, seguem as respostas às perguntas:\n",
        "\n",
        "---\n",
        "\n",
        "### 1. A amostra é concentrada ou dispersa?\n",
        "\n",
        "A amostra é **relativamente concentrada**. Isso pode ser observado pelos seguintes fatores:\n",
        "\n",
        "- A maior densidade de dados está em torno da média, com uma curva KDE bem definida e um pico central.\n",
        "- O intervalo interquartil (IIQ), que compreende os 50% centrais dos dados, é estreito em relação à amplitude total da distribuição.\n",
        "- O desvio padrão também é pequeno, indicando que a maioria dos valores está próxima da média.\n",
        "\n",
        "Esses elementos sugerem baixa dispersão na amostra.\n",
        "\n",
        "---\n",
        "\n",
        "### 1.2. A amplitude interna (IIQ) é proporcional à amplitude total da amostra?\n",
        "\n",
        "Não exatamente. O **IIQ** (representado pela distância entre Q1 e Q3) é uma fração significativa da amplitude total, mas não proporcional no sentido estrito:\n",
        "\n",
        "- O IIQ captura a maioria dos dados centrais (50%), enquanto a amplitude total considera os valores extremos.\n",
        "- Como a distribuição apresenta baixa assimetria positiva e curtose platicúrtica, a amplitude total é ligeiramente maior devido à presença de caudas mais longas, mas sem valores extremos significativos.\n",
        "\n",
        "Isso indica que o IIQ é uma boa representação da concentração dos dados centrais, mas não reflete toda a variabilidade presente na amostra.\n",
        "\n",
        "---\n",
        "\n",
        "### 1.3. Quais as implicações dessas informações em relação ao contexto/significado concreto dessa variável?\n",
        "\n",
        "A variável **IDEB12_17**  representa um índice educacional (IDEB - Índice de Desenvolvimento da Educação Básica). As implicações são:\n",
        "\n",
        "1. **Baixa dispersão**:\n",
        "   - A concentração dos valores indica que as  regiões avaliadas têm desempenhos educacionais relativamente homogêneos.\n",
        "   - Não há grandes desigualdades nos resultados representados por essa variável.\n",
        "\n",
        "2. **Amplitude interna (IIQ)**:\n",
        "   - Como o IIQ captura bem os valores centrais, ele reflete a \"zona típica\" de desempenho educacional para a maioria das escolas/regiões.\n",
        "   - Isso pode ser útil para identificar padrões gerais e definir metas realistas para melhoria.\n",
        "\n",
        "3. **Caudas mais leves**:\n",
        "   - A leve assimetria positiva sugere que há algumas escolas/regiões com desempenhos ligeiramente acima do padrão central, mas não são casos extremos.\n",
        "   - Isso pode indicar que políticas públicas ou intervenções específicas podem estar funcionando para evitar discrepâncias muito grandes.\n",
        "\n",
        "Em resumo, os dados sugerem um cenário educacional relativamente equilibrado, com pequenas variações positivas que podem ser exploradas para melhorar ainda mais o desempenho geral.\n",
        "\n"
      ],
      "metadata": {
        "id": "BK5iLa8DywRC"
      }
    },
    {
      "cell_type": "markdown",
      "source": [
        "Com base no gráfico KDE e nos valores de assimetria (skewness) e curtose fornecidos, podemos fazer uma análise mais completa da distribuição dos dados.\n",
        "\n",
        "---\n",
        "\n",
        "### **Análise da Assimetria (Skewness)**\n",
        "\n",
        "- **Valor da assimetria: 0.40575152479189386**\n",
        "  - A assimetria positiva indica que a distribuição tem uma leve cauda mais longa à direita.\n",
        "  - Embora o gráfico KDE pareça quase simétrico, o valor positivo da assimetria confirma que há uma pequena inclinação para valores maiores de **IDEB12_17**.\n",
        "  - Essa assimetria é considerada **baixa**, já que está próxima de zero.\n",
        "\n",
        "---\n",
        "\n",
        "### **Análise da Curtose**\n",
        "\n",
        "- **Valor da curtose: 0.9341874609501213**\n",
        "  - A curtose mede o \"achatamento\" ou \"pontualidade\" da distribuição em relação a uma normal.\n",
        "  - Um valor de curtose próximo de 3 indica uma distribuição normal (mesocúrtica).\n",
        "  - O valor fornecido (próximo de 1) sugere que a distribuição é **platicúrtica**, ou seja, mais achatada e com caudas menos extremas do que uma normal.\n",
        "  - Isso é consistente com o gráfico KDE, que mostra uma curva relativamente ampla e sem picos muito acentuados.\n",
        "\n",
        "---\n",
        "\n",
        "### **Resumo da Distribuição**\n",
        "\n",
        "1. **Forma Geral**:\n",
        "   - A distribuição é aproximadamente simétrica, com leve assimetria positiva.\n",
        "   - É mais achatada do que uma normal (platicúrtica).\n",
        "\n",
        "2. **Interpretação Estatística**:\n",
        "   - A leve assimetria indica que os valores maiores de IDEB12_17 ocorrem com um pouco mais de frequência do que os menores.\n",
        "   - A baixa curtose sugere menor probabilidade de valores extremos (outliers) em ambas as caudas.\n",
        "\n",
        "3. **Conclusão**:\n",
        "   - A distribuição dos dados é bem comportada, com pouca assimetria e caudas leves.\n",
        "   - Os valores médios e centrais são representativos das observações, enquanto os desvios padrão e o intervalo interquartil capturam bem a variabilidade.\n",
        "\n",
        "\n",
        "\n"
      ],
      "metadata": {
        "id": "bKE3mG8Bx7JT"
      }
    },
    {
      "cell_type": "code",
      "source": [],
      "metadata": {
        "id": "gUXTbAY9wDyq"
      },
      "execution_count": null,
      "outputs": []
    },
    {
      "cell_type": "code",
      "source": [],
      "metadata": {
        "id": "Nv5820LxzHjS"
      },
      "execution_count": null,
      "outputs": []
    },
    {
      "cell_type": "markdown",
      "source": [
        "Com base no gráfico KDE fornecido e nas informações sobre as medidas de dispersão (IIQ, desvio padrão) e forma (assimetria e curtose), podemos analisar a presença de outliers e propor uma forma de tratá-los.\n",
        "\n",
        "---\n",
        "\n",
        "### **Existência de Outliers**\n",
        "1. **Identificação pelo Gráfico**:\n",
        "   - O gráfico KDE mostra que a densidade dos dados diminui gradualmente nas extremidades (caudas), sem picos ou valores extremos evidentes.\n",
        "   - A leve assimetria positiva (skewness = 0.405) sugere que há uma pequena tendência para valores maiores, mas não indica outliers significativos.\n",
        "\n",
        "2. **Critério do Intervalo Interquartil (IIQ)**:\n",
        "   - O IIQ é delimitado por $$ Q1 $$\n",
        " e $$ Q3 $$\n",
        ", que representam os 25% e 75% dos dados, respectivamente.\n",
        "   - Outliers podem ser definidos como valores fora do intervalo:\n",
        "     $$\n",
        "     [Q1 - 1,5 \\times IIQ, \\, Q3 + 1,5 \\times IIQ]\n",
        "     $$\n",
        "   - No gráfico, as caudas são suaves e não ultrapassam significativamente os limites esperados para o intervalo acima, sugerindo que poucos ou nenhum outlier está presente.\n",
        "\n",
        "3. **Curtose (kurtosis = 0.934)**:\n",
        "   - A distribuição platicúrtica indica caudas leves, reforçando a ausência de valores extremos significativos.\n",
        "\n",
        "---\n",
        "\n",
        "### **Forma de Eliminar Outliers**\n",
        "Caso seja necessário tratar possíveis outliers, uma abordagem prática seria:\n",
        "\n",
        "1. **Usar o critério do IIQ**:\n",
        "   - Calcular os limites inferior ($$\n",
        " Q1 - 1,5 \\times IIQ $$) e superior ($$\n",
        " Q3 + 1,5 \\times IIQ $$).\n",
        "   - Remover valores fora desses limites.\n",
        "\n",
        "2. **Padronização por Z-Score**:\n",
        "   - Calcular o Z-score para cada dado:\n",
        "     $$\n",
        "     Z = \\frac{x - \\text{média}}{\\text{desvio padrão}}\n",
        "     $$\n",
        "   - Valores com $$\n",
        " |Z| > 3 $$ podem ser considerados outliers.\n",
        "\n",
        "3. **Impacto no Contexto**:\n",
        "   - A remoção de outliers deve ser feita com cuidado, pois pode eliminar informações relevantes.\n",
        "   - No caso do IDEB12_17 (indicador educacional), outliers podem representar escolas ou regiões com desempenhos muito baixos ou altos, o que pode ser relevante para políticas públicas.\n",
        "\n",
        "---\n",
        "\n",
        "### **Conclusão**\n",
        "O gráfico e as medidas indicam que há poucos ou nenhum outlier significativo na amostra. Caso seja necessário eliminá-los, o critério do IIQ ou a padronização por Z-score são métodos adequados. No entanto, é importante avaliar o impacto dessa remoção no contexto da análise, especialmente se os valores extremos forem relevantes para a interpretação dos resultados.\n",
        "\n",
        "*Análise realizada com auxilio de IA"
      ],
      "metadata": {
        "id": "rznsequ3z5j6"
      }
    },
    {
      "cell_type": "code",
      "source": [],
      "metadata": {
        "id": "8e78bQUxz-Gl"
      },
      "execution_count": null,
      "outputs": []
    }
  ]
}